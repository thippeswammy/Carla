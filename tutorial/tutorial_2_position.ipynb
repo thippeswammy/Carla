{
 "cells": [
  {
   "cell_type": "code",
   "execution_count": 7,
   "id": "8e7fb368",
   "metadata": {},
   "outputs": [],
   "source": [
    "import carla"
   ]
  },
  {
   "cell_type": "code",
   "execution_count": 8,
   "id": "95149ef1",
   "metadata": {},
   "outputs": [],
   "source": [
    "clint = carla.Client('localhost',2000)\n",
    "\n",
    "world = clint.get_world()\n",
    "spawn_points = world.get_map().get_spawn_points()\n",
    "\n",
    "vehicle_bp = world.get_blueprint_library().filter('*car*')\n",
    "start_point = spawn_points[0]\n",
    "vehicle = world.try_spawn_actor(vehicle_bp[0],start_point)"
   ]
  },
  {
   "cell_type": "code",
   "execution_count": 9,
   "id": "6ce950de",
   "metadata": {},
   "outputs": [
    {
     "name": "stdout",
     "output_type": "stream",
     "text": [
      "Transform(Location(x=-64.644844, y=24.471010, z=0.599027), Rotation(pitch=0.000000, yaw=0.159198, roll=0.000000))\n"
     ]
    }
   ],
   "source": [
    "vehicle_pos = vehicle.get_transform()\n",
    "print(vehicle_pos)"
   ]
  },
  {
   "cell_type": "code",
   "execution_count": 10,
   "id": "47504c29",
   "metadata": {},
   "outputs": [
    {
     "name": "stdout",
     "output_type": "stream",
     "text": [
      "Transform(Location(x=-64.644844, y=24.471010, z=0.600000), Rotation(pitch=0.000000, yaw=0.159198, roll=0.000000))\n"
     ]
    }
   ],
   "source": [
    "print(start_point)"
   ]
  },
  {
   "cell_type": "code",
   "execution_count": 11,
   "id": "5181180e",
   "metadata": {},
   "outputs": [],
   "source": [
    "vehicle.set_autopilot(True)"
   ]
  },
  {
   "cell_type": "code",
   "execution_count": 6,
   "id": "8cf9758e",
   "metadata": {},
   "outputs": [
    {
     "name": "stdout",
     "output_type": "stream",
     "text": [
      "Transform(Location(x=-113.631882, y=-8.963511, z=-0.004929), Rotation(pitch=0.148113, yaw=90.839668, roll=0.002249))\n"
     ]
    }
   ],
   "source": [
    "vehicle_pos = vehicle.get_transform()\n",
    "print(vehicle_pos)"
   ]
  },
  {
   "cell_type": "code",
   "execution_count": 13,
   "id": "cd5a59e3",
   "metadata": {},
   "outputs": [],
   "source": [
    "vehicle.set_autopilot(False)"
   ]
  },
  {
   "cell_type": "code",
   "execution_count": 14,
   "id": "54115b0b",
   "metadata": {},
   "outputs": [],
   "source": [
    "town_map = world.get_map()"
   ]
  },
  {
   "cell_type": "code",
   "execution_count": 16,
   "id": "e385b03d",
   "metadata": {},
   "outputs": [
    {
     "data": {
      "text/plain": [
       "carla.libcarla.Map"
      ]
     },
     "execution_count": 16,
     "metadata": {},
     "output_type": "execute_result"
    }
   ],
   "source": [
    "type(town_map)"
   ]
  },
  {
   "cell_type": "code",
   "execution_count": 17,
   "id": "d1f549e6",
   "metadata": {},
   "outputs": [
    {
     "name": "stdout",
     "output_type": "stream",
     "text": [
      "Map(name=Carla/Maps/Town10HD_Opt)\n"
     ]
    }
   ],
   "source": [
    "print(town_map)"
   ]
  },
  {
   "cell_type": "code",
   "execution_count": 18,
   "id": "c61fc9ef",
   "metadata": {},
   "outputs": [],
   "source": [
    "roads = town_map.get_topology()"
   ]
  },
  {
   "cell_type": "code",
   "execution_count": 19,
   "id": "fa0eba31",
   "metadata": {},
   "outputs": [
    {
     "name": "stdout",
     "output_type": "stream",
     "text": [
      "[(<carla.libcarla.Waypoint object at 0x00000197F17B8090>, <carla.libcarla.Waypoint object at 0x00000197F17B8150>), (<carla.libcarla.Waypoint object at 0x00000197F17B8270>, <carla.libcarla.Waypoint object at 0x00000197F17B82D0>), (<carla.libcarla.Waypoint object at 0x00000197F17B8330>, <carla.libcarla.Waypoint object at 0x00000197F17B8390>), (<carla.libcarla.Waypoint object at 0x00000197F17B83F0>, <carla.libcarla.Waypoint object at 0x00000197F17B8450>), (<carla.libcarla.Waypoint object at 0x00000197F17B84B0>, <carla.libcarla.Waypoint object at 0x00000197F17B8510>), (<carla.libcarla.Waypoint object at 0x00000197F17B8570>, <carla.libcarla.Waypoint object at 0x00000197F17B85D0>), (<carla.libcarla.Waypoint object at 0x00000197F17B8630>, <carla.libcarla.Waypoint object at 0x00000197F17B8690>), (<carla.libcarla.Waypoint object at 0x00000197F17B86F0>, <carla.libcarla.Waypoint object at 0x00000197F17B8750>), (<carla.libcarla.Waypoint object at 0x00000197F17B87B0>, <carla.libcarla.Waypoint object at 0x00000197F17B8810>), (<carla.libcarla.Waypoint object at 0x00000197F17B8870>, <carla.libcarla.Waypoint object at 0x00000197F17B88D0>), (<carla.libcarla.Waypoint object at 0x00000197F17B8930>, <carla.libcarla.Waypoint object at 0x00000197F17B8990>), (<carla.libcarla.Waypoint object at 0x00000197F17B89F0>, <carla.libcarla.Waypoint object at 0x00000197F17B8A50>), (<carla.libcarla.Waypoint object at 0x00000197F17B8AB0>, <carla.libcarla.Waypoint object at 0x00000197F17B8B10>), (<carla.libcarla.Waypoint object at 0x00000197F17B8B70>, <carla.libcarla.Waypoint object at 0x00000197F17B8BD0>), (<carla.libcarla.Waypoint object at 0x00000197F17B8C30>, <carla.libcarla.Waypoint object at 0x00000197F17B8C90>), (<carla.libcarla.Waypoint object at 0x00000197F17B8CF0>, <carla.libcarla.Waypoint object at 0x00000197F17B8D50>), (<carla.libcarla.Waypoint object at 0x00000197F17B8DB0>, <carla.libcarla.Waypoint object at 0x00000197F17B8E10>), (<carla.libcarla.Waypoint object at 0x00000197F17B8E70>, <carla.libcarla.Waypoint object at 0x00000197F17B8ED0>), (<carla.libcarla.Waypoint object at 0x00000197F17B8F30>, <carla.libcarla.Waypoint object at 0x00000197F17B8F90>), (<carla.libcarla.Waypoint object at 0x00000197F17BA030>, <carla.libcarla.Waypoint object at 0x00000197F17BA090>), (<carla.libcarla.Waypoint object at 0x00000197F17BA0F0>, <carla.libcarla.Waypoint object at 0x00000197F17BA150>), (<carla.libcarla.Waypoint object at 0x00000197F17BA1B0>, <carla.libcarla.Waypoint object at 0x00000197F17BA210>), (<carla.libcarla.Waypoint object at 0x00000197F17BA270>, <carla.libcarla.Waypoint object at 0x00000197F17BA2D0>), (<carla.libcarla.Waypoint object at 0x00000197F17BA330>, <carla.libcarla.Waypoint object at 0x00000197F17BA390>), (<carla.libcarla.Waypoint object at 0x00000197F17BA3F0>, <carla.libcarla.Waypoint object at 0x00000197F17BA450>), (<carla.libcarla.Waypoint object at 0x00000197F17BA4B0>, <carla.libcarla.Waypoint object at 0x00000197F17BA510>), (<carla.libcarla.Waypoint object at 0x00000197F17BA570>, <carla.libcarla.Waypoint object at 0x00000197F17BA5D0>), (<carla.libcarla.Waypoint object at 0x00000197F17BA630>, <carla.libcarla.Waypoint object at 0x00000197F17BA690>), (<carla.libcarla.Waypoint object at 0x00000197F17BA6F0>, <carla.libcarla.Waypoint object at 0x00000197F17BA750>), (<carla.libcarla.Waypoint object at 0x00000197F17BA7B0>, <carla.libcarla.Waypoint object at 0x00000197F17BA810>), (<carla.libcarla.Waypoint object at 0x00000197F17BA870>, <carla.libcarla.Waypoint object at 0x00000197F17BA8D0>), (<carla.libcarla.Waypoint object at 0x00000197F17BA930>, <carla.libcarla.Waypoint object at 0x00000197F17BA990>), (<carla.libcarla.Waypoint object at 0x00000197F17BA9F0>, <carla.libcarla.Waypoint object at 0x00000197F17BAA50>), (<carla.libcarla.Waypoint object at 0x00000197F17BAAB0>, <carla.libcarla.Waypoint object at 0x00000197F17BAB10>), (<carla.libcarla.Waypoint object at 0x00000197F17BAB70>, <carla.libcarla.Waypoint object at 0x00000197F17BABD0>), (<carla.libcarla.Waypoint object at 0x00000197F17BAC30>, <carla.libcarla.Waypoint object at 0x00000197F17BAC90>), (<carla.libcarla.Waypoint object at 0x00000197F17BACF0>, <carla.libcarla.Waypoint object at 0x00000197F17BAD50>), (<carla.libcarla.Waypoint object at 0x00000197F17BADB0>, <carla.libcarla.Waypoint object at 0x00000197F17BAE10>), (<carla.libcarla.Waypoint object at 0x00000197F17BAE70>, <carla.libcarla.Waypoint object at 0x00000197F17BAED0>), (<carla.libcarla.Waypoint object at 0x00000197F17BAF30>, <carla.libcarla.Waypoint object at 0x00000197F17BAF90>), (<carla.libcarla.Waypoint object at 0x00000197F17BB030>, <carla.libcarla.Waypoint object at 0x00000197F17BB090>), (<carla.libcarla.Waypoint object at 0x00000197F17BB0F0>, <carla.libcarla.Waypoint object at 0x00000197F17BB150>), (<carla.libcarla.Waypoint object at 0x00000197F17BB1B0>, <carla.libcarla.Waypoint object at 0x00000197F17BB210>), (<carla.libcarla.Waypoint object at 0x00000197F17BB270>, <carla.libcarla.Waypoint object at 0x00000197F17BB2D0>), (<carla.libcarla.Waypoint object at 0x00000197F17BB330>, <carla.libcarla.Waypoint object at 0x00000197F17BB390>), (<carla.libcarla.Waypoint object at 0x00000197F17BB3F0>, <carla.libcarla.Waypoint object at 0x00000197F17BB450>), (<carla.libcarla.Waypoint object at 0x00000197F17BB4B0>, <carla.libcarla.Waypoint object at 0x00000197F17BB510>), (<carla.libcarla.Waypoint object at 0x00000197F17BB570>, <carla.libcarla.Waypoint object at 0x00000197F17BB5D0>), (<carla.libcarla.Waypoint object at 0x00000197F17BB630>, <carla.libcarla.Waypoint object at 0x00000197F17BB690>), (<carla.libcarla.Waypoint object at 0x00000197F17BB6F0>, <carla.libcarla.Waypoint object at 0x00000197F17BB750>), (<carla.libcarla.Waypoint object at 0x00000197F17BB7B0>, <carla.libcarla.Waypoint object at 0x00000197F17BB810>), (<carla.libcarla.Waypoint object at 0x00000197F17BB870>, <carla.libcarla.Waypoint object at 0x00000197F17BB8D0>), (<carla.libcarla.Waypoint object at 0x00000197F17BB930>, <carla.libcarla.Waypoint object at 0x00000197F17BB990>), (<carla.libcarla.Waypoint object at 0x00000197F17BB9F0>, <carla.libcarla.Waypoint object at 0x00000197F17BBA50>), (<carla.libcarla.Waypoint object at 0x00000197F17BBAB0>, <carla.libcarla.Waypoint object at 0x00000197F17BBB10>), (<carla.libcarla.Waypoint object at 0x00000197F17BBB70>, <carla.libcarla.Waypoint object at 0x00000197F17BBBD0>), (<carla.libcarla.Waypoint object at 0x00000197F17BBC30>, <carla.libcarla.Waypoint object at 0x00000197F17BBC90>), (<carla.libcarla.Waypoint object at 0x00000197F17BBCF0>, <carla.libcarla.Waypoint object at 0x00000197F17BBD50>), (<carla.libcarla.Waypoint object at 0x00000197F17BBDB0>, <carla.libcarla.Waypoint object at 0x00000197F17BBE10>), (<carla.libcarla.Waypoint object at 0x00000197F17BBE70>, <carla.libcarla.Waypoint object at 0x00000197F17BBED0>), (<carla.libcarla.Waypoint object at 0x00000197F17BBF30>, <carla.libcarla.Waypoint object at 0x00000197F17BBF90>), (<carla.libcarla.Waypoint object at 0x00000197F17BC030>, <carla.libcarla.Waypoint object at 0x00000197F17BC090>), (<carla.libcarla.Waypoint object at 0x00000197F17BC0F0>, <carla.libcarla.Waypoint object at 0x00000197F17BC150>), (<carla.libcarla.Waypoint object at 0x00000197F17BC1B0>, <carla.libcarla.Waypoint object at 0x00000197F17BC210>), (<carla.libcarla.Waypoint object at 0x00000197F17BC270>, <carla.libcarla.Waypoint object at 0x00000197F17BC2D0>), (<carla.libcarla.Waypoint object at 0x00000197F17BC330>, <carla.libcarla.Waypoint object at 0x00000197F17BC390>), (<carla.libcarla.Waypoint object at 0x00000197F17BC3F0>, <carla.libcarla.Waypoint object at 0x00000197F17BC450>), (<carla.libcarla.Waypoint object at 0x00000197F17BC4B0>, <carla.libcarla.Waypoint object at 0x00000197F17BC510>), (<carla.libcarla.Waypoint object at 0x00000197F17BC570>, <carla.libcarla.Waypoint object at 0x00000197F17BC5D0>), (<carla.libcarla.Waypoint object at 0x00000197F17BC630>, <carla.libcarla.Waypoint object at 0x00000197F17BC690>), (<carla.libcarla.Waypoint object at 0x00000197F17BC6F0>, <carla.libcarla.Waypoint object at 0x00000197F17BC750>), (<carla.libcarla.Waypoint object at 0x00000197F17BC7B0>, <carla.libcarla.Waypoint object at 0x00000197F17BC810>), (<carla.libcarla.Waypoint object at 0x00000197F17BC870>, <carla.libcarla.Waypoint object at 0x00000197F17BC8D0>), (<carla.libcarla.Waypoint object at 0x00000197F17BC930>, <carla.libcarla.Waypoint object at 0x00000197F17BC990>), (<carla.libcarla.Waypoint object at 0x00000197F17BC9F0>, <carla.libcarla.Waypoint object at 0x00000197F17BCA50>), (<carla.libcarla.Waypoint object at 0x00000197F17BCAB0>, <carla.libcarla.Waypoint object at 0x00000197F17BCB10>), (<carla.libcarla.Waypoint object at 0x00000197F17BCB70>, <carla.libcarla.Waypoint object at 0x00000197F17BCBD0>), (<carla.libcarla.Waypoint object at 0x00000197F17BCC30>, <carla.libcarla.Waypoint object at 0x00000197F17BCC90>), (<carla.libcarla.Waypoint object at 0x00000197F17BCCF0>, <carla.libcarla.Waypoint object at 0x00000197F17BCD50>), (<carla.libcarla.Waypoint object at 0x00000197F17BCDB0>, <carla.libcarla.Waypoint object at 0x00000197F17BCE10>), (<carla.libcarla.Waypoint object at 0x00000197F17BCE70>, <carla.libcarla.Waypoint object at 0x00000197F17BCED0>), (<carla.libcarla.Waypoint object at 0x00000197F17BCF30>, <carla.libcarla.Waypoint object at 0x00000197F17BCF90>), (<carla.libcarla.Waypoint object at 0x00000197F17BD030>, <carla.libcarla.Waypoint object at 0x00000197F17BD090>), (<carla.libcarla.Waypoint object at 0x00000197F17BD0F0>, <carla.libcarla.Waypoint object at 0x00000197F17BD150>), (<carla.libcarla.Waypoint object at 0x00000197F17BD1B0>, <carla.libcarla.Waypoint object at 0x00000197F17BD210>), (<carla.libcarla.Waypoint object at 0x00000197F17BD270>, <carla.libcarla.Waypoint object at 0x00000197F17BD2D0>), (<carla.libcarla.Waypoint object at 0x00000197F17BD330>, <carla.libcarla.Waypoint object at 0x00000197F17BD390>), (<carla.libcarla.Waypoint object at 0x00000197F17BD3F0>, <carla.libcarla.Waypoint object at 0x00000197F17BD450>), (<carla.libcarla.Waypoint object at 0x00000197F17BD4B0>, <carla.libcarla.Waypoint object at 0x00000197F17BD510>), (<carla.libcarla.Waypoint object at 0x00000197F17BD570>, <carla.libcarla.Waypoint object at 0x00000197F17BD5D0>), (<carla.libcarla.Waypoint object at 0x00000197F17BD630>, <carla.libcarla.Waypoint object at 0x00000197F17BD690>), (<carla.libcarla.Waypoint object at 0x00000197F17BD6F0>, <carla.libcarla.Waypoint object at 0x00000197F17BD750>), (<carla.libcarla.Waypoint object at 0x00000197F17BD7B0>, <carla.libcarla.Waypoint object at 0x00000197F17BD810>), (<carla.libcarla.Waypoint object at 0x00000197F17BD870>, <carla.libcarla.Waypoint object at 0x00000197F17BD8D0>), (<carla.libcarla.Waypoint object at 0x00000197F17BD930>, <carla.libcarla.Waypoint object at 0x00000197F17BD990>), (<carla.libcarla.Waypoint object at 0x00000197F17BD9F0>, <carla.libcarla.Waypoint object at 0x00000197F17BDA50>), (<carla.libcarla.Waypoint object at 0x00000197F17BDAB0>, <carla.libcarla.Waypoint object at 0x00000197F17BDB10>), (<carla.libcarla.Waypoint object at 0x00000197F17BDB70>, <carla.libcarla.Waypoint object at 0x00000197F17BDBD0>), (<carla.libcarla.Waypoint object at 0x00000197F17BDC30>, <carla.libcarla.Waypoint object at 0x00000197F17BDC90>), (<carla.libcarla.Waypoint object at 0x00000197F17BDCF0>, <carla.libcarla.Waypoint object at 0x00000197F17BDD50>), (<carla.libcarla.Waypoint object at 0x00000197F17BDDB0>, <carla.libcarla.Waypoint object at 0x00000197F17BDE10>), (<carla.libcarla.Waypoint object at 0x00000197F17BDE70>, <carla.libcarla.Waypoint object at 0x00000197F17BDED0>), (<carla.libcarla.Waypoint object at 0x00000197F17BDF30>, <carla.libcarla.Waypoint object at 0x00000197F17BDF90>), (<carla.libcarla.Waypoint object at 0x00000197F17BE030>, <carla.libcarla.Waypoint object at 0x00000197F17BE090>), (<carla.libcarla.Waypoint object at 0x00000197F17BE0F0>, <carla.libcarla.Waypoint object at 0x00000197F17BE150>), (<carla.libcarla.Waypoint object at 0x00000197F17BE1B0>, <carla.libcarla.Waypoint object at 0x00000197F17BE210>), (<carla.libcarla.Waypoint object at 0x00000197F17BE270>, <carla.libcarla.Waypoint object at 0x00000197F17BE2D0>), (<carla.libcarla.Waypoint object at 0x00000197F17BE330>, <carla.libcarla.Waypoint object at 0x00000197F17BE390>), (<carla.libcarla.Waypoint object at 0x00000197F17BE3F0>, <carla.libcarla.Waypoint object at 0x00000197F17BE450>), (<carla.libcarla.Waypoint object at 0x00000197F17BE4B0>, <carla.libcarla.Waypoint object at 0x00000197F17BE510>), (<carla.libcarla.Waypoint object at 0x00000197F17BE570>, <carla.libcarla.Waypoint object at 0x00000197F17BE5D0>), (<carla.libcarla.Waypoint object at 0x00000197F17BE630>, <carla.libcarla.Waypoint object at 0x00000197F17BE690>), (<carla.libcarla.Waypoint object at 0x00000197F17BE6F0>, <carla.libcarla.Waypoint object at 0x00000197F17BE750>), (<carla.libcarla.Waypoint object at 0x00000197F17BE7B0>, <carla.libcarla.Waypoint object at 0x00000197F17BE810>), (<carla.libcarla.Waypoint object at 0x00000197F17BE870>, <carla.libcarla.Waypoint object at 0x00000197F17BE8D0>), (<carla.libcarla.Waypoint object at 0x00000197F17BE930>, <carla.libcarla.Waypoint object at 0x00000197F17BE990>), (<carla.libcarla.Waypoint object at 0x00000197F17BE9F0>, <carla.libcarla.Waypoint object at 0x00000197F17BEA50>), (<carla.libcarla.Waypoint object at 0x00000197F17BEAB0>, <carla.libcarla.Waypoint object at 0x00000197F17BEB10>), (<carla.libcarla.Waypoint object at 0x00000197F17BEB70>, <carla.libcarla.Waypoint object at 0x00000197F17BEBD0>), (<carla.libcarla.Waypoint object at 0x00000197F17BEC30>, <carla.libcarla.Waypoint object at 0x00000197F17BEC90>), (<carla.libcarla.Waypoint object at 0x00000197F17BECF0>, <carla.libcarla.Waypoint object at 0x00000197F17BED50>), (<carla.libcarla.Waypoint object at 0x00000197F17BEDB0>, <carla.libcarla.Waypoint object at 0x00000197F17BEE10>), (<carla.libcarla.Waypoint object at 0x00000197F17BEE70>, <carla.libcarla.Waypoint object at 0x00000197F17BEED0>), (<carla.libcarla.Waypoint object at 0x00000197F17BEF30>, <carla.libcarla.Waypoint object at 0x00000197F17BEF90>), (<carla.libcarla.Waypoint object at 0x00000197F17BF030>, <carla.libcarla.Waypoint object at 0x00000197F17BF090>), (<carla.libcarla.Waypoint object at 0x00000197F17BF0F0>, <carla.libcarla.Waypoint object at 0x00000197F17BF150>), (<carla.libcarla.Waypoint object at 0x00000197F17BF1B0>, <carla.libcarla.Waypoint object at 0x00000197F17BF210>), (<carla.libcarla.Waypoint object at 0x00000197F17BF270>, <carla.libcarla.Waypoint object at 0x00000197F17BF2D0>), (<carla.libcarla.Waypoint object at 0x00000197F17BF330>, <carla.libcarla.Waypoint object at 0x00000197F17BF390>), (<carla.libcarla.Waypoint object at 0x00000197F17BF3F0>, <carla.libcarla.Waypoint object at 0x00000197F17BF450>), (<carla.libcarla.Waypoint object at 0x00000197F17BF4B0>, <carla.libcarla.Waypoint object at 0x00000197F17BF510>), (<carla.libcarla.Waypoint object at 0x00000197F17BF570>, <carla.libcarla.Waypoint object at 0x00000197F17BF5D0>), (<carla.libcarla.Waypoint object at 0x00000197F17BF630>, <carla.libcarla.Waypoint object at 0x00000197F17BF690>), (<carla.libcarla.Waypoint object at 0x00000197F17BF6F0>, <carla.libcarla.Waypoint object at 0x00000197F17BF750>), (<carla.libcarla.Waypoint object at 0x00000197F17BF7B0>, <carla.libcarla.Waypoint object at 0x00000197F17BF810>), (<carla.libcarla.Waypoint object at 0x00000197F17BF870>, <carla.libcarla.Waypoint object at 0x00000197F17BF8D0>), (<carla.libcarla.Waypoint object at 0x00000197F17BF930>, <carla.libcarla.Waypoint object at 0x00000197F17BF990>), (<carla.libcarla.Waypoint object at 0x00000197F17BF9F0>, <carla.libcarla.Waypoint object at 0x00000197F17BFA50>), (<carla.libcarla.Waypoint object at 0x00000197F17BFAB0>, <carla.libcarla.Waypoint object at 0x00000197F17BFB10>), (<carla.libcarla.Waypoint object at 0x00000197F17BFB70>, <carla.libcarla.Waypoint object at 0x00000197F17BFBD0>), (<carla.libcarla.Waypoint object at 0x00000197F17BFC30>, <carla.libcarla.Waypoint object at 0x00000197F17BFC90>), (<carla.libcarla.Waypoint object at 0x00000197F17BFCF0>, <carla.libcarla.Waypoint object at 0x00000197F17BFD50>), (<carla.libcarla.Waypoint object at 0x00000197F17BFDB0>, <carla.libcarla.Waypoint object at 0x00000197F17BFE10>), (<carla.libcarla.Waypoint object at 0x00000197F17BFE70>, <carla.libcarla.Waypoint object at 0x00000197F17BFED0>), (<carla.libcarla.Waypoint object at 0x00000197F17BFF30>, <carla.libcarla.Waypoint object at 0x00000197F17BFF90>), (<carla.libcarla.Waypoint object at 0x00000197F17C0030>, <carla.libcarla.Waypoint object at 0x00000197F17C0090>), (<carla.libcarla.Waypoint object at 0x00000197F17C00F0>, <carla.libcarla.Waypoint object at 0x00000197F17C0150>), (<carla.libcarla.Waypoint object at 0x00000197F17C01B0>, <carla.libcarla.Waypoint object at 0x00000197F17C0210>), (<carla.libcarla.Waypoint object at 0x00000197F17C0270>, <carla.libcarla.Waypoint object at 0x00000197F17C02D0>), (<carla.libcarla.Waypoint object at 0x00000197F17C0330>, <carla.libcarla.Waypoint object at 0x00000197F17C0390>), (<carla.libcarla.Waypoint object at 0x00000197F17C03F0>, <carla.libcarla.Waypoint object at 0x00000197F17C0450>), (<carla.libcarla.Waypoint object at 0x00000197F17C04B0>, <carla.libcarla.Waypoint object at 0x00000197F17C0510>), (<carla.libcarla.Waypoint object at 0x00000197F17C0570>, <carla.libcarla.Waypoint object at 0x00000197F17C05D0>), (<carla.libcarla.Waypoint object at 0x00000197F17C0630>, <carla.libcarla.Waypoint object at 0x00000197F17C0690>), (<carla.libcarla.Waypoint object at 0x00000197F17C06F0>, <carla.libcarla.Waypoint object at 0x00000197F17C0750>), (<carla.libcarla.Waypoint object at 0x00000197F17C07B0>, <carla.libcarla.Waypoint object at 0x00000197F17C0810>), (<carla.libcarla.Waypoint object at 0x00000197F17C0870>, <carla.libcarla.Waypoint object at 0x00000197F17C08D0>), (<carla.libcarla.Waypoint object at 0x00000197F17C0930>, <carla.libcarla.Waypoint object at 0x00000197F17C0990>), (<carla.libcarla.Waypoint object at 0x00000197F17C09F0>, <carla.libcarla.Waypoint object at 0x00000197F17C0A50>), (<carla.libcarla.Waypoint object at 0x00000197F17C0AB0>, <carla.libcarla.Waypoint object at 0x00000197F17C0B10>), (<carla.libcarla.Waypoint object at 0x00000197F17C0B70>, <carla.libcarla.Waypoint object at 0x00000197F17C0BD0>), (<carla.libcarla.Waypoint object at 0x00000197F17C0C30>, <carla.libcarla.Waypoint object at 0x00000197F17C0C90>), (<carla.libcarla.Waypoint object at 0x00000197F17C0CF0>, <carla.libcarla.Waypoint object at 0x00000197F17C0D50>), (<carla.libcarla.Waypoint object at 0x00000197F17C0DB0>, <carla.libcarla.Waypoint object at 0x00000197F17C0E10>), (<carla.libcarla.Waypoint object at 0x00000197F17C0E70>, <carla.libcarla.Waypoint object at 0x00000197F17C0ED0>), (<carla.libcarla.Waypoint object at 0x00000197F17C0F30>, <carla.libcarla.Waypoint object at 0x00000197F17C0F90>), (<carla.libcarla.Waypoint object at 0x00000197F17C1030>, <carla.libcarla.Waypoint object at 0x00000197F17C1090>), (<carla.libcarla.Waypoint object at 0x00000197F17C10F0>, <carla.libcarla.Waypoint object at 0x00000197F17C1150>), (<carla.libcarla.Waypoint object at 0x00000197F17C11B0>, <carla.libcarla.Waypoint object at 0x00000197F17C1210>), (<carla.libcarla.Waypoint object at 0x00000197F17C1270>, <carla.libcarla.Waypoint object at 0x00000197F17C12D0>), (<carla.libcarla.Waypoint object at 0x00000197F17C1330>, <carla.libcarla.Waypoint object at 0x00000197F17C1390>), (<carla.libcarla.Waypoint object at 0x00000197F17C13F0>, <carla.libcarla.Waypoint object at 0x00000197F17C1450>), (<carla.libcarla.Waypoint object at 0x00000197F17C14B0>, <carla.libcarla.Waypoint object at 0x00000197F17C1510>), (<carla.libcarla.Waypoint object at 0x00000197F17C1570>, <carla.libcarla.Waypoint object at 0x00000197F17C15D0>), (<carla.libcarla.Waypoint object at 0x00000197F17C1630>, <carla.libcarla.Waypoint object at 0x00000197F17C1690>), (<carla.libcarla.Waypoint object at 0x00000197F17C16F0>, <carla.libcarla.Waypoint object at 0x00000197F17C1750>), (<carla.libcarla.Waypoint object at 0x00000197F17C17B0>, <carla.libcarla.Waypoint object at 0x00000197F17C1810>), (<carla.libcarla.Waypoint object at 0x00000197F17C1870>, <carla.libcarla.Waypoint object at 0x00000197F17C18D0>), (<carla.libcarla.Waypoint object at 0x00000197F17C1930>, <carla.libcarla.Waypoint object at 0x00000197F17C1990>), (<carla.libcarla.Waypoint object at 0x00000197F17C19F0>, <carla.libcarla.Waypoint object at 0x00000197F17C1A50>), (<carla.libcarla.Waypoint object at 0x00000197F17C1AB0>, <carla.libcarla.Waypoint object at 0x00000197F17C1B10>), (<carla.libcarla.Waypoint object at 0x00000197F17C1B70>, <carla.libcarla.Waypoint object at 0x00000197F17C1BD0>), (<carla.libcarla.Waypoint object at 0x00000197F17C1C30>, <carla.libcarla.Waypoint object at 0x00000197F17C1C90>), (<carla.libcarla.Waypoint object at 0x00000197F17C1CF0>, <carla.libcarla.Waypoint object at 0x00000197F17C1D50>), (<carla.libcarla.Waypoint object at 0x00000197F17C1DB0>, <carla.libcarla.Waypoint object at 0x00000197F17C1E10>), (<carla.libcarla.Waypoint object at 0x00000197F17C1E70>, <carla.libcarla.Waypoint object at 0x00000197F17C1ED0>), (<carla.libcarla.Waypoint object at 0x00000197F17C1F30>, <carla.libcarla.Waypoint object at 0x00000197F17C1F90>), (<carla.libcarla.Waypoint object at 0x00000197F17C2030>, <carla.libcarla.Waypoint object at 0x00000197F17C2090>), (<carla.libcarla.Waypoint object at 0x00000197F17C20F0>, <carla.libcarla.Waypoint object at 0x00000197F17C2150>), (<carla.libcarla.Waypoint object at 0x00000197F17C21B0>, <carla.libcarla.Waypoint object at 0x00000197F17C2210>), (<carla.libcarla.Waypoint object at 0x00000197F17C2270>, <carla.libcarla.Waypoint object at 0x00000197F17C22D0>), (<carla.libcarla.Waypoint object at 0x00000197F17C2330>, <carla.libcarla.Waypoint object at 0x00000197F17C2390>), (<carla.libcarla.Waypoint object at 0x00000197F17C23F0>, <carla.libcarla.Waypoint object at 0x00000197F17C2450>), (<carla.libcarla.Waypoint object at 0x00000197F17C24B0>, <carla.libcarla.Waypoint object at 0x00000197F17C2510>), (<carla.libcarla.Waypoint object at 0x00000197F17C2570>, <carla.libcarla.Waypoint object at 0x00000197F17C25D0>), (<carla.libcarla.Waypoint object at 0x00000197F17C2630>, <carla.libcarla.Waypoint object at 0x00000197F17C2690>), (<carla.libcarla.Waypoint object at 0x00000197F17C26F0>, <carla.libcarla.Waypoint object at 0x00000197F17C2750>), (<carla.libcarla.Waypoint object at 0x00000197F17C27B0>, <carla.libcarla.Waypoint object at 0x00000197F17C2810>), (<carla.libcarla.Waypoint object at 0x00000197F17C2870>, <carla.libcarla.Waypoint object at 0x00000197F17C28D0>), (<carla.libcarla.Waypoint object at 0x00000197F17C2930>, <carla.libcarla.Waypoint object at 0x00000197F17C2990>)]\n"
     ]
    }
   ],
   "source": [
    "print(roads)"
   ]
  },
  {
   "cell_type": "code",
   "execution_count": 20,
   "id": "4727c663",
   "metadata": {},
   "outputs": [
    {
     "name": "stdout",
     "output_type": "stream",
     "text": [
      "Waypoint(Transform(Location(x=109.929878, y=-9.334196, z=0.000000), Rotation(pitch=0.000000, yaw=-89.609253, roll=0.000000)))\n"
     ]
    }
   ],
   "source": [
    "print(roads[0][0])"
   ]
  },
  {
   "cell_type": "code",
   "execution_count": 21,
   "id": "b0bf888d",
   "metadata": {},
   "outputs": [
    {
     "data": {
      "text/plain": [
       "200"
      ]
     },
     "execution_count": 21,
     "metadata": {},
     "output_type": "execute_result"
    }
   ],
   "source": [
    "len(roads)"
   ]
  },
  {
   "cell_type": "code",
   "execution_count": null,
   "id": "445447df",
   "metadata": {},
   "outputs": [],
   "source": [
    "CA"
   ]
  }
 ],
 "metadata": {
  "kernelspec": {
   "display_name": "Python 3 (ipykernel)",
   "language": "python",
   "name": "python3"
  },
  "language_info": {
   "codemirror_mode": {
    "name": "ipython",
    "version": 3
   },
   "file_extension": ".py",
   "mimetype": "text/x-python",
   "name": "python",
   "nbconvert_exporter": "python",
   "pygments_lexer": "ipython3",
   "version": "3.7.9"
  }
 },
 "nbformat": 4,
 "nbformat_minor": 5
}
