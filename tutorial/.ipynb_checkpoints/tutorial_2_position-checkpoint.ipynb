{
 "cells": [
  {
   "cell_type": "code",
   "execution_count": 4,
   "id": "8e7fb368",
   "metadata": {},
   "outputs": [],
   "source": [
    "import carla"
   ]
  },
  {
   "cell_type": "code",
   "execution_count": 5,
   "id": "95149ef1",
   "metadata": {},
   "outputs": [],
   "source": [
    "clint = carla.Client('localhost',2000)\n",
    "\n",
    "world = clint.get_world()\n",
    "spawn_points = world.get_map().get_spawn_points()\n",
    "\n",
    "vehicle_bp = world.get_blueprint_library().filter('*car*')\n",
    "start_point = spawn_points[0]\n",
    "vehicle = world.try_spawn_actor(vehicle_bp[0],start_point)"
   ]
  },
  {
   "cell_type": "code",
   "execution_count": null,
   "id": "6ce950de",
   "metadata": {},
   "outputs": [],
   "source": [
    "vehical_pos = vehicle.get_transform"
   ]
  },
  {
   "cell_type": "code",
   "execution_count": null,
   "id": "47504c29",
   "metadata": {},
   "outputs": [],
   "source": []
  }
 ],
 "metadata": {
  "kernelspec": {
   "display_name": "Python 3 (ipykernel)",
   "language": "python",
   "name": "python3"
  },
  "language_info": {
   "codemirror_mode": {
    "name": "ipython",
    "version": 3
   },
   "file_extension": ".py",
   "mimetype": "text/x-python",
   "name": "python",
   "nbconvert_exporter": "python",
   "pygments_lexer": "ipython3",
   "version": "3.7.9"
  }
 },
 "nbformat": 4,
 "nbformat_minor": 5
}
